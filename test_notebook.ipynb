{
 "cells": [
  {
   "cell_type": "code",
   "execution_count": 21,
   "metadata": {},
   "outputs": [],
   "source": [
    "import json, os\n",
    "from dataclasses import dataclass\n",
    "experiments_dir = r\"C:\\Users\\alifa\\OneDrive - Nexus365\\Documents\\Video Aquisition Application\\pyCamera\\code\\experiments\""
   ]
  },
  {
   "cell_type": "code",
   "execution_count": 12,
   "metadata": {},
   "outputs": [],
   "source": [
    "# load the experiments config files from the dir\n",
    "jsons_files = [f for f in os.listdir(experiments_dir) if f.endswith('.json')]\n",
    "\n",
    "loaded_experiments = []\n",
    "for file in jsons_files:\n",
    "    with open(os.path.join(experiments_dir, file)) as f:\n",
    "        loaded_experiments.append(json.load(f))\n",
    "        \n",
    "    \n"
   ]
  },
  {
   "cell_type": "code",
   "execution_count": 13,
   "metadata": {},
   "outputs": [],
   "source": [
    "@dataclass\n",
    "class camera:\n",
    "    name: str\n",
    "    subject_ID: str\n",
    "    width: int\n",
    "    height: int\n",
    "    bitrate: str\n",
    "    fps: int\n",
    "    pixel_format: str\n",
    "    exposure_time: int\n",
    "    gain: int\n",
    "    display_update_ps: int\n",
    "\n",
    "@dataclass\n",
    "class experiment:\n",
    "    data_dir: str\n",
    "    encoder: str\n",
    "    num_cameras: int\n",
    "    cameras: list[camera]"
   ]
  },
  {
   "cell_type": "code",
   "execution_count": 66,
   "metadata": {},
   "outputs": [
    {
     "name": "stdout",
     "output_type": "stream",
     "text": [
      "dict_keys(['data_dir', 'encoder', 'num_cameras', 'cameras'])\n",
      "dict_keys(['name', 'subject_ID', 'width', 'height', 'bitrate', 'fps', 'pixel_format', 'exposure_time', 'gain', 'display_update_ps'])\n",
      "dict_keys(['name', 'subject_ID', 'width', 'height', 'bitrate', 'fps', 'pixel_format', 'exposure_time', 'gain', 'display_update_ps'])\n",
      "dict_keys(['name', 'subject_ID', 'width', 'height', 'bitrate', 'fps', 'pixel_format', 'exposure_time', 'gain', 'display_update_ps'])\n",
      "dict_keys(['data_dir', 'encoder', 'num_cameras', 'cameras'])\n",
      "dict_keys(['name', 'subject_ID', 'width', 'height', 'bitrate', 'fps', 'pixel_format', 'exposure_time', 'gain', 'display_update_ps'])\n",
      "dict_keys(['name', 'subject_ID', 'width', 'height', 'bitrate', 'fps', 'pixel_format', 'exposure_time', 'gain', 'display_update_ps'])\n",
      "dict_keys(['name', 'subject_ID', 'width', 'height', 'bitrate', 'fps', 'pixel_format', 'exposure_time', 'gain', 'display_update_ps'])\n",
      "dict_keys(['data_dir', 'encoder', 'num_cameras', 'cameras'])\n",
      "dict_keys(['name', 'subject_ID', 'width', 'height', 'bitrate', 'fps', 'pixel_format', 'exposure_time', 'gain', 'display_update_ps'])\n",
      "dict_keys(['name', 'subject_ID', 'width', 'height', 'bitrate', 'fps', 'pixel_format', 'exposure_time', 'gain', 'display_update_ps'])\n",
      "dict_keys(['name', 'subject_ID', 'width', 'height', 'bitrate', 'fps', 'pixel_format', 'exposure_time', 'gain', 'display_update_ps'])\n"
     ]
    }
   ],
   "source": [
    "\n",
    "# print the loaded experiments\n",
    "#                        experiment name, setup_configs, camera_configs, 'attributes'\n",
    "experiments = []\n",
    "\n",
    "for exp in loaded_experiments:\n",
    "    cameras = []\n",
    "    print(exp.keys())\n",
    "    for cam in exp['cameras']:\n",
    "        print(cam.keys())\n",
    "        cameras.append(camera(cam['name'], cam['subject_ID'], cam['width'], cam['height'], cam['bitrate'], cam['fps'], cam['pixel_format'], cam['exposure_time'], cam['gain'], cam['display_update_ps']))\n",
    "    experiments.append(experiment(exp['data_dir'], exp['encoder'], exp['num_cameras'], cameras))"
   ]
  },
  {
   "cell_type": "code",
   "execution_count": 68,
   "metadata": {},
   "outputs": [
    {
     "data": {
      "text/plain": [
       "'A'"
      ]
     },
     "execution_count": 68,
     "metadata": {},
     "output_type": "execute_result"
    }
   ],
   "source": [
    "exp = experiments[0]\n",
    "exp.cameras[0].subject_ID"
   ]
  },
  {
   "cell_type": "code",
   "execution_count": 8,
   "metadata": {},
   "outputs": [
    {
     "data": {
      "text/plain": [
       "'C:/Users/alifa/OneDrive - Nexus365/Documents/Video Aquisition Application/camViewer2/app_data/camera'"
      ]
     },
     "execution_count": 8,
     "metadata": {},
     "output_type": "execute_result"
    }
   ],
   "source": [
    "exp = experiments[0]\n",
    "exp.data_dir"
   ]
  },
  {
   "cell_type": "code",
   "execution_count": null,
   "metadata": {},
   "outputs": [],
   "source": [
    "def load_experiment(file_path: str) -> experiment:\n",
    "    'Function to load an experiment from a json file'\n",
    "    with open(file_path) as f:\n",
    "        exp_dict = json.load(f)\n",
    "    cameras = []\n",
    "    for cam in exp_dict['cameras']:\n",
    "        cameras.append(camera(**cam))\n",
    "    return experiment(\n",
    "        data_dir=exp_dict['data_dir'],\n",
    "        encoder=exp_dict['encoder'],\n",
    "        num_cameras=exp_dict['num_cameras'],\n",
    "        cameras=cameras          \n",
    "            )\n",
    "\n",
    "def save_experiment(exp: experiment, filename:str ) -> None:\n",
    "    'Function to save an experiment to a json file'\n",
    "    # save the experiment to a json file\n",
    "    exp_dict = exp.__dict__\n",
    "    exp_dict['cameras'] = [cam.__dict__ for cam in exp_dict['cameras']]\n",
    "    # save with new lines between the keys\n",
    "    with open(os.path.join(experiments_dir, filename), 'w') as f:\n",
    "        f.write(json.dumps(exp_dict, indent=4))\n",
    "\n",
    "test_experiment = load_experiment(os.path.join(experiments_dir, 'new_experiment.json'))        \n",
    "save_experiment(test_experiment)\n"
   ]
  },
  {
   "cell_type": "code",
   "execution_count": 44,
   "metadata": {},
   "outputs": [
    {
     "ename": "ImportError",
     "evalue": "cannot import name 'return_list_of_unique_ids' from 'api.camera' (c:\\Users\\alifa\\OneDrive - Nexus365\\Documents\\Video Aquisition Application\\pyCamera\\code\\api\\camera.py)",
     "output_type": "error",
     "traceback": [
      "\u001b[1;31m---------------------------------------------------------------------------\u001b[0m",
      "\u001b[1;31mImportError\u001b[0m                               Traceback (most recent call last)",
      "Cell \u001b[1;32mIn[44], line 5\u001b[0m\n\u001b[0;32m      1\u001b[0m get_ipython()\u001b[38;5;241m.\u001b[39mrun_line_magic(\u001b[38;5;124m'\u001b[39m\u001b[38;5;124mautoreload\u001b[39m\u001b[38;5;124m'\u001b[39m, \u001b[38;5;124m'\u001b[39m\u001b[38;5;124m2\u001b[39m\u001b[38;5;124m'\u001b[39m)\n\u001b[0;32m      4\u001b[0m \u001b[38;5;28;01mimport\u001b[39;00m \u001b[38;5;21;01mjson\u001b[39;00m \n\u001b[1;32m----> 5\u001b[0m \u001b[38;5;28;01mfrom\u001b[39;00m \u001b[38;5;21;01mapi\u001b[39;00m\u001b[38;5;21;01m.\u001b[39;00m\u001b[38;5;21;01mcamera\u001b[39;00m \u001b[38;5;28;01mimport\u001b[39;00m return_list_of_unique_ids\n\u001b[0;32m      7\u001b[0m setup \u001b[38;5;241m=\u001b[39m \u001b[38;5;124mr\u001b[39m\u001b[38;5;124m'\u001b[39m\u001b[38;5;124mC:\u001b[39m\u001b[38;5;124m\\\u001b[39m\u001b[38;5;124mUsers\u001b[39m\u001b[38;5;124m\\\u001b[39m\u001b[38;5;124malifa\u001b[39m\u001b[38;5;124m\\\u001b[39m\u001b[38;5;124mOneDrive - Nexus365\u001b[39m\u001b[38;5;124m\\\u001b[39m\u001b[38;5;124mDocuments\u001b[39m\u001b[38;5;124m\\\u001b[39m\u001b[38;5;124mVideo Aquisition Application\u001b[39m\u001b[38;5;124m\\\u001b[39m\u001b[38;5;124mpyCamera\u001b[39m\u001b[38;5;124m\\\u001b[39m\u001b[38;5;124mcode\u001b[39m\u001b[38;5;124m\\\u001b[39m\u001b[38;5;124mconfigs\u001b[39m\u001b[38;5;124m\\\u001b[39m\u001b[38;5;124msetup1.json\u001b[39m\u001b[38;5;124m'\u001b[39m\n\u001b[0;32m      9\u001b[0m \u001b[38;5;28;01mwith\u001b[39;00m \u001b[38;5;28mopen\u001b[39m(setup) \u001b[38;5;28;01mas\u001b[39;00m f:\n",
      "\u001b[1;31mImportError\u001b[0m: cannot import name 'return_list_of_unique_ids' from 'api.camera' (c:\\Users\\alifa\\OneDrive - Nexus365\\Documents\\Video Aquisition Application\\pyCamera\\code\\api\\camera.py)"
     ]
    }
   ],
   "source": [
    "%autoreload 2\n",
    "\n",
    "\n",
    "import json \n",
    "from api.camera import return_list_of_unique_ids\n",
    "\n",
    "setup = r'C:\\Users\\alifa\\OneDrive - Nexus365\\Documents\\Video Aquisition Application\\pyCamera\\code\\configs\\setup1.json'\n",
    "\n",
    "with open(setup) as f:\n",
    "    setup_dict = json.load(f)\n",
    "    \n",
    "cameras = return_list_of_unique_ids(setup_dict)\n",
    "print(cameras)"
   ]
  },
  {
   "cell_type": "code",
   "execution_count": 71,
   "metadata": {},
   "outputs": [
    {
     "name": "stdout",
     "output_type": "stream",
     "text": [
      "('18360350', 'spinnaker')\n",
      "<PySpin.PySpin.CameraPtr; proxy of <Swig Object of type 'Spinnaker::CameraPtr *' at 0x000001E83E481320> >\n"
     ]
    },
    {
     "data": {
      "text/plain": [
       "array([[130, 220, 144, ..., 255, 255, 255],\n",
       "       [  7,   7,   9, ..., 255, 255, 255],\n",
       "       [  7,   7,   7, ..., 255, 255, 255],\n",
       "       ...,\n",
       "       [255, 255, 255, ...,  18,  21,  19],\n",
       "       [255, 255, 255, ...,  18,  19,  20],\n",
       "       [255, 255, 255, ...,  17,  18,  18]], dtype=uint8)"
      ]
     },
     "execution_count": 71,
     "metadata": {},
     "output_type": "execute_result"
    }
   ],
   "source": [
    "import api.load_camera as Camera2\n",
    "unique_id = Camera2.get_unique_ids()\n",
    "\n",
    "print(unique_id[0])\n",
    "\n",
    "cam = Camera2.init_camera(*unique_id[0])\n",
    "\n",
    "# cam.begin_capturing()\n",
    "cam.get_next_image()"
   ]
  },
  {
   "cell_type": "code",
   "execution_count": 3,
   "metadata": {},
   "outputs": [
    {
     "data": {
      "text/plain": [
       "[('18360350-spinnaker',),\n",
       " ('21013407-spinnaker',),\n",
       " ('20073102-spinnaker',),\n",
       " ('0-usb',)]"
      ]
     },
     "execution_count": 3,
     "metadata": {},
     "output_type": "execute_result"
    }
   ],
   "source": [
    "%autoreload 2\n",
    "import api.load_camera as lc\n",
    "lc.get_unique_ids()"
   ]
  },
  {
   "cell_type": "code",
   "execution_count": 3,
   "metadata": {},
   "outputs": [
    {
     "name": "stdout",
     "output_type": "stream",
     "text": [
      "Camera: <PySpin.PySpin.CameraPtr; proxy of <Swig Object of type 'Spinnaker::CameraPtr *' at 0x000001B810C5BDB0> >\n"
     ]
    },
    {
     "data": {
      "text/plain": [
       "{'camera': <api.camera.SpinnakerCamera at 0x1b810b5fcd0>,\n",
       " 'logger': <Logger api.camera (WARNING)>,\n",
       " 'system': <PySpin.PySpin.SystemPtr; proxy of <Swig Object of type 'Spinnaker::SystemPtr *' at 0x000001B810C58D20> >,\n",
       " 'cam': <PySpin.PySpin.CameraPtr; proxy of <Swig Object of type 'Spinnaker::CameraPtr *' at 0x000001B810C5BDB0> >,\n",
       " 'exposure_time': 9997.725486755371,\n",
       " 'width': 1280,\n",
       " 'height': 720,\n",
       " 'fps': 30.03857421875,\n",
       " 'gain': 4.9836015701293945,\n",
       " 'pixel_format': 'Mono8',\n",
       " 'bitrate': 199520000}"
      ]
     },
     "execution_count": 3,
     "metadata": {},
     "output_type": "execute_result"
    }
   ],
   "source": [
    "%autoreload 2\n",
    "from api.camera import SpinnakerCamera\n",
    "cam = SpinnakerCamera(\"18360350-spinnaker\")\n",
    "\n",
    "# get dict of attr\n",
    "cam.__dict__"
   ]
  },
  {
   "cell_type": "code",
   "execution_count": 1,
   "metadata": {},
   "outputs": [
    {
     "ename": "",
     "evalue": "",
     "output_type": "error",
     "traceback": [
      "\u001b[1;31mThe Kernel crashed while executing code in the current cell or a previous cell. \n",
      "\u001b[1;31mPlease review the code in the cell(s) to identify a possible cause of the failure. \n",
      "\u001b[1;31mClick <a href='https://aka.ms/vscodeJupyterKernelCrash'>here</a> for more info. \n",
      "\u001b[1;31mView Jupyter <a href='command:jupyter.viewOutput'>log</a> for further details."
     ]
    }
   ],
   "source": [
    "from tools.load_camera import get_unique_ids\n",
    "get_unique_ids()"
   ]
  },
  {
   "cell_type": "code",
   "execution_count": 3,
   "metadata": {},
   "outputs": [
    {
     "data": {
      "text/plain": [
       "3"
      ]
     },
     "execution_count": 3,
     "metadata": {},
     "output_type": "execute_result"
    }
   ],
   "source": [
    "import PySpin\n",
    "system = PySpin.System.GetInstance()\n",
    "cam_list = system.GetCameras()\n",
    "len(cam_list)"
   ]
  }
 ],
 "metadata": {
  "kernelspec": {
   "display_name": "flir",
   "language": "python",
   "name": "python3"
  },
  "language_info": {
   "codemirror_mode": {
    "name": "ipython",
    "version": 3
   },
   "file_extension": ".py",
   "mimetype": "text/x-python",
   "name": "python",
   "nbconvert_exporter": "python",
   "pygments_lexer": "ipython3",
   "version": "3.10.15"
  }
 },
 "nbformat": 4,
 "nbformat_minor": 2
}
