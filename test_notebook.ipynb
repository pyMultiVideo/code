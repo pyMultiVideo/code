{
 "cells": [
  {
   "cell_type": "code",
   "execution_count": 1,
   "metadata": {},
   "outputs": [],
   "source": [
    "%autoreload 2\n",
    "from tools.camera import SpinnakerCamera"
   ]
  },
  {
   "cell_type": "code",
   "execution_count": 2,
   "metadata": {},
   "outputs": [
    {
     "name": "stdout",
     "output_type": "stream",
     "text": [
      "Camera: <PySpin.PySpin.CameraPtr; proxy of <Swig Object of type 'Spinnaker::CameraPtr *' at 0x000001D009EEC3F0> >\n",
      "Frame rate set to 20 FPS.\n",
      "Frame rate set to 30 FPS.\n"
     ]
    },
    {
     "data": {
      "text/plain": [
       "(30.015535354614258, 20.009069442749023, 30.015535354614258)"
      ]
     },
     "execution_count": 2,
     "metadata": {},
     "output_type": "execute_result"
    }
   ],
   "source": [
    "cam = SpinnakerCamera('18360350-spinnaker')\n",
    "# get the frame rate\n",
    "f1 = cam.get_frame_rate()\n",
    "cam.set_frame_rate(20)\n",
    "f2 = cam.get_frame_rate()\n",
    "cam.set_frame_rate(30)\n",
    "f3 = cam.get_frame_rate()\n",
    "f1, f2, f3"
   ]
  },
  {
   "cell_type": "code",
   "execution_count": 10,
   "metadata": {},
   "outputs": [
    {
     "ename": "AttributeError",
     "evalue": "'SpinnakerCamera' object has no attribute 'unique_id'",
     "output_type": "error",
     "traceback": [
      "\u001b[1;31m---------------------------------------------------------------------------\u001b[0m",
      "\u001b[1;31mAttributeError\u001b[0m                            Traceback (most recent call last)",
      "Cell \u001b[1;32mIn[10], line 1\u001b[0m\n\u001b[1;32m----> 1\u001b[0m \u001b[43mcam\u001b[49m\u001b[38;5;241;43m.\u001b[39;49m\u001b[43mgetCameraSettingsConfig\u001b[49m\u001b[43m(\u001b[49m\u001b[43m)\u001b[49m\n",
      "File \u001b[1;32mc:\\Users\\alifa\\OneDrive - Nexus365\\Documents\\Video Aquisition Application\\pyCamera\\code\\tools\\camera.py:106\u001b[0m, in \u001b[0;36mSpinnakerCamera.getCameraSettingsConfig\u001b[1;34m(self)\u001b[0m\n\u001b[0;32m    103\u001b[0m \u001b[38;5;28;01mdef\u001b[39;00m \u001b[38;5;21mgetCameraSettingsConfig\u001b[39m(\u001b[38;5;28mself\u001b[39m) \u001b[38;5;241m-\u001b[39m\u001b[38;5;241m>\u001b[39m CameraSettingsConfig:\n\u001b[0;32m    104\u001b[0m     \u001b[38;5;28;01mreturn\u001b[39;00m CameraSettingsConfig(\n\u001b[0;32m    105\u001b[0m         name \u001b[38;5;241m=\u001b[39m \u001b[38;5;124m'\u001b[39m\u001b[38;5;124mConfig returned from SpinnakerCamera wrapper. This does not have access to the name variable. Consider implementing.\u001b[39m\u001b[38;5;124m'\u001b[39m,\n\u001b[1;32m--> 106\u001b[0m         unique_id \u001b[38;5;241m=\u001b[39m \u001b[38;5;28;43mself\u001b[39;49m\u001b[38;5;241;43m.\u001b[39;49m\u001b[43mget_unique_id\u001b[49m\u001b[43m(\u001b[49m\u001b[43m)\u001b[49m,\n\u001b[0;32m    107\u001b[0m         fps \u001b[38;5;241m=\u001b[39m \u001b[38;5;28mself\u001b[39m\u001b[38;5;241m.\u001b[39mget_frame_rate(),\n\u001b[0;32m    108\u001b[0m         pxl_fmt \u001b[38;5;241m=\u001b[39m \u001b[38;5;28mself\u001b[39m\u001b[38;5;241m.\u001b[39mget_pixel_format()\n\u001b[0;32m    109\u001b[0m     )\n",
      "File \u001b[1;32mc:\\Users\\alifa\\OneDrive - Nexus365\\Documents\\Video Aquisition Application\\pyCamera\\code\\tools\\camera.py:99\u001b[0m, in \u001b[0;36mSpinnakerCamera.get_unique_id\u001b[1;34m(self)\u001b[0m\n\u001b[0;32m     98\u001b[0m \u001b[38;5;28;01mdef\u001b[39;00m \u001b[38;5;21mget_unique_id\u001b[39m(\u001b[38;5;28mself\u001b[39m) \u001b[38;5;241m-\u001b[39m\u001b[38;5;241m>\u001b[39m \u001b[38;5;28mstr\u001b[39m:\n\u001b[1;32m---> 99\u001b[0m     \u001b[38;5;28;01mreturn\u001b[39;00m \u001b[38;5;28;43mself\u001b[39;49m\u001b[38;5;241;43m.\u001b[39;49m\u001b[43munique_id\u001b[49m\n",
      "\u001b[1;31mAttributeError\u001b[0m: 'SpinnakerCamera' object has no attribute 'unique_id'"
     ]
    }
   ],
   "source": [
    "cam.getCameraSettingsConfig()"
   ]
  },
  {
   "cell_type": "code",
   "execution_count": 7,
   "metadata": {},
   "outputs": [
    {
     "name": "stdout",
     "output_type": "stream",
     "text": [
      "Begin capturing: 18360350\n",
      "Frame rate set to 20 FPS.\n"
     ]
    },
    {
     "data": {
      "text/plain": [
       "20.009069442749023"
      ]
     },
     "execution_count": 7,
     "metadata": {},
     "output_type": "execute_result"
    }
   ],
   "source": [
    "cam.begin_capturing()\n",
    "cam.set_frame_rate(20)\n",
    "cam.get_frame_rate()"
   ]
  },
  {
   "cell_type": "code",
   "execution_count": 8,
   "metadata": {},
   "outputs": [
    {
     "data": {
      "text/plain": [
       "([array([[ 85, 236, 183, ..., 122, 120, 116],\n",
       "         [ 62,  60,  56, ..., 114, 101, 115],\n",
       "         [ 53,  61,  64, ...,  98,  93,  90],\n",
       "         ...,\n",
       "         [  9,  13,   9, ...,  31,  30,  22],\n",
       "         [ 11,   9,   9, ...,  28,  28,  30],\n",
       "         [  8,   9,   9, ...,  30,  28,  28]], dtype=uint8),\n",
       "  array([[ 86,  26,   8, ..., 112, 120, 119],\n",
       "         [ 58,  50,  61, ..., 110, 112, 108],\n",
       "         [ 53,  58,  61, ...,  95, 104,  87],\n",
       "         ...,\n",
       "         [  5,  13,  11, ...,  26,  32,  26],\n",
       "         [ 12,  10,  10, ...,  32,  30,  27],\n",
       "         [  7,   7,  10, ...,  30,  27,  26]], dtype=uint8),\n",
       "  array([[ 86,  59,  89, ..., 115, 115, 113],\n",
       "         [ 52,  57,  54, ..., 109, 107, 103],\n",
       "         [ 58,  59,  63, ...,  89,  98,  99],\n",
       "         ...,\n",
       "         [ 11,  11,  12, ...,  24,  26,  29],\n",
       "         [ 12,  13,  12, ...,  30,  26,  27],\n",
       "         [  8,   7,  10, ...,  34,  28,  26]], dtype=uint8),\n",
       "  array([[ 86,  92, 169, ..., 119, 122, 124],\n",
       "         [ 56,  60,  51, ..., 115, 103, 105],\n",
       "         [ 58,  64,  62, ...,  96,  87,  95],\n",
       "         ...,\n",
       "         [ 11,  11,  11, ...,  28,  28,  28],\n",
       "         [ 15,  13,   9, ...,  24,  27,  23],\n",
       "         [  7,  12,   8, ...,  31,  25,  24]], dtype=uint8),\n",
       "  array([[ 86, 125, 250, ..., 119, 125, 112],\n",
       "         [ 60,  53,  54, ..., 114, 105, 104],\n",
       "         [ 64,  59,  57, ..., 102,  92,  97],\n",
       "         ...,\n",
       "         [  9,  11,  11, ...,  26,  26,  27],\n",
       "         [  7,  11,  10, ...,  24,  25,  26],\n",
       "         [  8,  13,   8, ...,  26,  28,  29]], dtype=uint8),\n",
       "  array([[ 83, 202,  82, ..., 255, 255, 255],\n",
       "         [189, 189, 190, ..., 255, 255, 255],\n",
       "         [183, 190, 192, ..., 255, 255, 255],\n",
       "         ...,\n",
       "         [ 29,  27,  26, ...,  94, 100,  97],\n",
       "         [ 26,  27,  32, ...,  94, 103,  92],\n",
       "         [ 33,  33,  25, ..., 102,  98,  97]], dtype=uint8),\n",
       "  array([[ 84,   8,  74, ..., 255, 255, 255],\n",
       "         [182, 177, 192, ..., 255, 255, 255],\n",
       "         [173, 184, 197, ..., 255, 255, 255],\n",
       "         ...,\n",
       "         [ 26,  29,  27, ...,  96,  96, 101],\n",
       "         [ 31,  26,  30, ..., 104,  94,  92],\n",
       "         [ 30,  28,  24, ..., 105,  93,  95]], dtype=uint8),\n",
       "  array([[ 84,  58,  69, ..., 255, 255, 255],\n",
       "         [166, 194, 183, ..., 255, 255, 255],\n",
       "         [172, 179, 190, ..., 255, 255, 255],\n",
       "         ...,\n",
       "         [ 29,  33,  29, ...,  93,  97,  94],\n",
       "         [ 32,  31,  27, ..., 104,  96,  92],\n",
       "         [ 28,  26,  23, ..., 110,  86,  92]], dtype=uint8),\n",
       "  array([[ 84, 108,  64, ..., 255, 255, 255],\n",
       "         [164, 169, 177, ..., 255, 255, 255],\n",
       "         [163, 175, 186, ..., 255, 255, 255],\n",
       "         ...,\n",
       "         [ 26,  32,  26, ...,  92,  99,  92],\n",
       "         [ 29,  32,  29, ...,  96,  92,  97],\n",
       "         [ 25,  30,  30, ..., 101, 100, 103]], dtype=uint8),\n",
       "  array([[ 84, 158,  56, ..., 255, 255, 255],\n",
       "         [ 92,  97, 105, ..., 255, 255, 255],\n",
       "         [ 92, 101, 116, ..., 255, 255, 255],\n",
       "         ...,\n",
       "         [ 27,  30,  32, ...,  92, 106,  98],\n",
       "         [ 27,  33,  31, ..., 101, 100,  99],\n",
       "         [ 34,  26,  22, ...,  98, 103,  99]], dtype=uint8),\n",
       "  array([[ 84, 208,  51, ..., 255, 255, 255],\n",
       "         [150, 134, 121, ..., 255, 255, 255],\n",
       "         [150, 135, 135, ..., 255, 255, 255],\n",
       "         ...,\n",
       "         [ 30,  34,  28, ...,  94,  98, 104],\n",
       "         [ 37,  31,  28, ...,  98,  93, 100],\n",
       "         [ 24,  30,  28, ...,  99,  98,  88]], dtype=uint8),\n",
       "  array([[ 85,   2,  43, ..., 255, 255, 255],\n",
       "         [255, 255, 255, ..., 255, 255, 255],\n",
       "         [255, 255, 255, ..., 255, 255, 255],\n",
       "         ...,\n",
       "         [ 23,  27,  30, ..., 100,  96, 101],\n",
       "         [ 29,  33,  31, ..., 103, 101,  98],\n",
       "         [ 35,  32,  23, ..., 106,  91,  92]], dtype=uint8),\n",
       "  array([[ 85,  52,  39, ..., 255, 255, 255],\n",
       "         [186, 200, 198, ..., 255, 255, 255],\n",
       "         [190, 200, 203, ..., 255, 255, 255],\n",
       "         ...,\n",
       "         [ 25,  33,  32, ..., 102,  97, 104],\n",
       "         [ 26,  34,  28, ..., 100, 104,  96],\n",
       "         [ 26,  30,  27, ..., 103, 105,  98]], dtype=uint8),\n",
       "  array([[ 85, 102,  34, ..., 255, 255, 255],\n",
       "         [ 82,  86, 101, ..., 255, 255, 255],\n",
       "         [ 67,  86,  87, ..., 255, 255, 255],\n",
       "         ...,\n",
       "         [ 27,  30,  32, ..., 101,  98, 104],\n",
       "         [ 34,  32,  32, ..., 108, 106, 103],\n",
       "         [ 29,  33,  21, ..., 107, 104,  85]], dtype=uint8),\n",
       "  array([[ 85, 152,  26, ..., 255, 255, 255],\n",
       "         [ 94, 118, 120, ..., 255, 255, 255],\n",
       "         [ 95, 110, 106, ..., 255, 255, 255],\n",
       "         ...,\n",
       "         [ 27,  30,  30, ...,  90,  92,  98],\n",
       "         [ 33,  31,  31, ...,  98, 103, 108],\n",
       "         [ 27,  31,  27, ..., 116, 101, 104]], dtype=uint8),\n",
       "  array([[ 85, 202,  21, ..., 255, 255, 255],\n",
       "         [103, 127, 124, ..., 255, 255, 255],\n",
       "         [ 93, 112, 118, ..., 255, 255, 255],\n",
       "         ...,\n",
       "         [ 28,  29,  28, ...,  99,  90, 100],\n",
       "         [ 29,  32,  32, ..., 106, 100,  95],\n",
       "         [ 26,  27,  30, ..., 104, 112, 110]], dtype=uint8)],\n",
       " [{'EnumEntry_LineSelector_Line0': False,\n",
       "   'EnumEntry_LineSelector_Line1': False,\n",
       "   'EnumEntry_LineSelector_Line2': False,\n",
       "   'EnumEntry_LineSelector_Line3': False},\n",
       "  {'EnumEntry_LineSelector_Line0': False,\n",
       "   'EnumEntry_LineSelector_Line1': False,\n",
       "   'EnumEntry_LineSelector_Line2': False,\n",
       "   'EnumEntry_LineSelector_Line3': False},\n",
       "  {'EnumEntry_LineSelector_Line0': False,\n",
       "   'EnumEntry_LineSelector_Line1': False,\n",
       "   'EnumEntry_LineSelector_Line2': False,\n",
       "   'EnumEntry_LineSelector_Line3': False},\n",
       "  {'EnumEntry_LineSelector_Line0': False,\n",
       "   'EnumEntry_LineSelector_Line1': False,\n",
       "   'EnumEntry_LineSelector_Line2': False,\n",
       "   'EnumEntry_LineSelector_Line3': False},\n",
       "  {'EnumEntry_LineSelector_Line0': False,\n",
       "   'EnumEntry_LineSelector_Line1': False,\n",
       "   'EnumEntry_LineSelector_Line2': False,\n",
       "   'EnumEntry_LineSelector_Line3': False},\n",
       "  {'EnumEntry_LineSelector_Line0': False,\n",
       "   'EnumEntry_LineSelector_Line1': False,\n",
       "   'EnumEntry_LineSelector_Line2': False,\n",
       "   'EnumEntry_LineSelector_Line3': False},\n",
       "  {'EnumEntry_LineSelector_Line0': False,\n",
       "   'EnumEntry_LineSelector_Line1': False,\n",
       "   'EnumEntry_LineSelector_Line2': False,\n",
       "   'EnumEntry_LineSelector_Line3': False},\n",
       "  {'EnumEntry_LineSelector_Line0': False,\n",
       "   'EnumEntry_LineSelector_Line1': False,\n",
       "   'EnumEntry_LineSelector_Line2': False,\n",
       "   'EnumEntry_LineSelector_Line3': False},\n",
       "  {'EnumEntry_LineSelector_Line0': False,\n",
       "   'EnumEntry_LineSelector_Line1': False,\n",
       "   'EnumEntry_LineSelector_Line2': False,\n",
       "   'EnumEntry_LineSelector_Line3': False},\n",
       "  {'EnumEntry_LineSelector_Line0': False,\n",
       "   'EnumEntry_LineSelector_Line1': False,\n",
       "   'EnumEntry_LineSelector_Line2': False,\n",
       "   'EnumEntry_LineSelector_Line3': False},\n",
       "  {'EnumEntry_LineSelector_Line0': False,\n",
       "   'EnumEntry_LineSelector_Line1': False,\n",
       "   'EnumEntry_LineSelector_Line2': False,\n",
       "   'EnumEntry_LineSelector_Line3': False},\n",
       "  {'EnumEntry_LineSelector_Line0': False,\n",
       "   'EnumEntry_LineSelector_Line1': False,\n",
       "   'EnumEntry_LineSelector_Line2': False,\n",
       "   'EnumEntry_LineSelector_Line3': False},\n",
       "  {'EnumEntry_LineSelector_Line0': False,\n",
       "   'EnumEntry_LineSelector_Line1': False,\n",
       "   'EnumEntry_LineSelector_Line2': False,\n",
       "   'EnumEntry_LineSelector_Line3': False},\n",
       "  {'EnumEntry_LineSelector_Line0': False,\n",
       "   'EnumEntry_LineSelector_Line1': False,\n",
       "   'EnumEntry_LineSelector_Line2': False,\n",
       "   'EnumEntry_LineSelector_Line3': False},\n",
       "  {'EnumEntry_LineSelector_Line0': False,\n",
       "   'EnumEntry_LineSelector_Line1': False,\n",
       "   'EnumEntry_LineSelector_Line2': False,\n",
       "   'EnumEntry_LineSelector_Line3': False},\n",
       "  {'EnumEntry_LineSelector_Line0': False,\n",
       "   'EnumEntry_LineSelector_Line1': False,\n",
       "   'EnumEntry_LineSelector_Line2': False,\n",
       "   'EnumEntry_LineSelector_Line3': False}])"
      ]
     },
     "execution_count": 8,
     "metadata": {},
     "output_type": "execute_result"
    }
   ],
   "source": [
    "cam.retrieve_buffered_data()"
   ]
  },
  {
   "cell_type": "code",
   "execution_count": null,
   "metadata": {},
   "outputs": [],
   "source": []
  }
 ],
 "metadata": {
  "kernelspec": {
   "display_name": "flir",
   "language": "python",
   "name": "python3"
  },
  "language_info": {
   "codemirror_mode": {
    "name": "ipython",
    "version": 3
   },
   "file_extension": ".py",
   "mimetype": "text/x-python",
   "name": "python",
   "nbconvert_exporter": "python",
   "pygments_lexer": "ipython3",
   "version": "3.10.15"
  }
 },
 "nbformat": 4,
 "nbformat_minor": 2
}
